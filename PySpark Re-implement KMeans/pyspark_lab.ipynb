{
  "nbformat": 4,
  "nbformat_minor": 0,
  "metadata": {
    "colab": {
      "name": "pyspark lab.ipynb",
      "provenance": [],
      "collapsed_sections": []
    },
    "kernelspec": {
      "name": "python3",
      "display_name": "Python 3"
    },
    "language_info": {
      "name": "python"
    }
  },
  "cells": [
    {
      "cell_type": "markdown",
      "metadata": {
        "id": "dnX9K-glTz_l"
      },
      "source": [
        "# Settings"
      ]
    },
    {
      "cell_type": "code",
      "metadata": {
        "id": "JgP-wJSiTHTx"
      },
      "source": [
        "!apt-get install texlive texlive-xetex texlive-latex-extra pandoc\n",
        "!pip install pypandoc"
      ],
      "execution_count": null,
      "outputs": []
    },
    {
      "cell_type": "code",
      "metadata": {
        "id": "3Z4pgwXKTLHy"
      },
      "source": [
        "from google.colab import drive\n",
        "drive.mount('/content/drive')"
      ],
      "execution_count": null,
      "outputs": []
    },
    {
      "cell_type": "code",
      "metadata": {
        "id": "jIAkXguQxwut"
      },
      "source": [
        "cd /content/drive/MyDrive"
      ],
      "execution_count": null,
      "outputs": []
    },
    {
      "cell_type": "code",
      "metadata": {
        "id": "WUaAebqsp4gB"
      },
      "source": [
        "pip install pyspark"
      ],
      "execution_count": null,
      "outputs": []
    },
    {
      "cell_type": "code",
      "metadata": {
        "id": "FCeRF-jFpuyj"
      },
      "source": [
        "import pyspark\n",
        "sc = pyspark.SparkContext('local[4]',appName=\"Spark Lab Session\")"
      ],
      "execution_count": 5,
      "outputs": []
    },
    {
      "cell_type": "markdown",
      "metadata": {
        "id": "iwK77DGAqY3l"
      },
      "source": [
        "#  First steps with Spark"
      ]
    },
    {
      "cell_type": "markdown",
      "metadata": {
        "id": "gKPEpvksqfTD"
      },
      "source": [
        "## First RDD"
      ]
    },
    {
      "cell_type": "code",
      "metadata": {
        "id": "8vpMVR2JpwQ8"
      },
      "source": [
        "rdd = sc.parallelize(range(3000))"
      ],
      "execution_count": 6,
      "outputs": []
    },
    {
      "cell_type": "code",
      "metadata": {
        "colab": {
          "base_uri": "https://localhost:8080/"
        },
        "id": "c4F91F_KVOEY",
        "outputId": "9b45d0f8-fa31-4d24-c587-78892c10b7d8"
      },
      "source": [
        "rdd.take(10)"
      ],
      "execution_count": 7,
      "outputs": [
        {
          "output_type": "execute_result",
          "data": {
            "text/plain": [
              "[0, 1, 2, 3, 4, 5, 6, 7, 8, 9]"
            ]
          },
          "metadata": {},
          "execution_count": 7
        }
      ]
    },
    {
      "cell_type": "markdown",
      "metadata": {
        "id": "JImjCFbaqhPh"
      },
      "source": [
        "## Computing the sum of cubes\n"
      ]
    },
    {
      "cell_type": "code",
      "metadata": {
        "id": "-TVQOI9rqXwe"
      },
      "source": [
        "rdd2 = rdd.map(lambda x : x**3)"
      ],
      "execution_count": 8,
      "outputs": []
    },
    {
      "cell_type": "code",
      "metadata": {
        "colab": {
          "base_uri": "https://localhost:8080/"
        },
        "id": "2r6tElIGVVed",
        "outputId": "b8f721ae-f078-44f0-b3b5-61e3a99e65a2"
      },
      "source": [
        "rdd2.take(10)"
      ],
      "execution_count": 9,
      "outputs": [
        {
          "output_type": "execute_result",
          "data": {
            "text/plain": [
              "[0, 1, 8, 27, 64, 125, 216, 343, 512, 729]"
            ]
          },
          "metadata": {},
          "execution_count": 9
        }
      ]
    },
    {
      "cell_type": "code",
      "metadata": {
        "colab": {
          "base_uri": "https://localhost:8080/"
        },
        "id": "gAzGhcCWtABj",
        "outputId": "f76a57e6-18e2-4cd0-d110-500923521121"
      },
      "source": [
        "rdd2.sum()"
      ],
      "execution_count": 10,
      "outputs": [
        {
          "output_type": "execute_result",
          "data": {
            "text/plain": [
              "20236502250000"
            ]
          },
          "metadata": {},
          "execution_count": 10
        }
      ]
    },
    {
      "cell_type": "markdown",
      "metadata": {
        "id": "OZrPwxQltBwA"
      },
      "source": [
        "## Last digits of elements in C"
      ]
    },
    {
      "cell_type": "code",
      "metadata": {
        "id": "rSglEa_mth-6"
      },
      "source": [
        "last_i = rdd2.map(lambda x : (x%10, 1)).reduceByKey(lambda a, b: a + b)"
      ],
      "execution_count": 11,
      "outputs": []
    },
    {
      "cell_type": "code",
      "metadata": {
        "colab": {
          "base_uri": "https://localhost:8080/"
        },
        "id": "oLDLJVE8ucYj",
        "outputId": "ba39d4b6-d191-40f8-a19b-05b09d2cd3c2"
      },
      "source": [
        "last_i.collect()"
      ],
      "execution_count": 12,
      "outputs": [
        {
          "output_type": "execute_result",
          "data": {
            "text/plain": [
              "[(0, 300),\n",
              " (8, 300),\n",
              " (4, 300),\n",
              " (1, 300),\n",
              " (5, 300),\n",
              " (9, 300),\n",
              " (6, 300),\n",
              " (2, 300),\n",
              " (7, 300),\n",
              " (3, 300)]"
            ]
          },
          "metadata": {},
          "execution_count": 12
        }
      ]
    },
    {
      "cell_type": "markdown",
      "metadata": {
        "id": "FBuE1lLcwPB0"
      },
      "source": [
        "## Digits of C"
      ]
    },
    {
      "cell_type": "code",
      "metadata": {
        "id": "sB9WrcUKwWDI"
      },
      "source": [
        "digits_C = rdd2.flatMap(lambda i : [e for e in str(i)]).map(lambda x : (x,1)).reduceByKey(lambda a, b: a + b)"
      ],
      "execution_count": 13,
      "outputs": []
    },
    {
      "cell_type": "code",
      "metadata": {
        "colab": {
          "base_uri": "https://localhost:8080/"
        },
        "id": "gvgSacYjxAnM",
        "outputId": "d3f912ef-f2c2-4e84-e97d-97dfca00ce64"
      },
      "source": [
        "digits_C.collect()"
      ],
      "execution_count": 14,
      "outputs": [
        {
          "output_type": "execute_result",
          "data": {
            "text/plain": [
              "[('4', 2762),\n",
              " ('7', 2787),\n",
              " ('6', 2713),\n",
              " ('3', 2814),\n",
              " ('0', 3127),\n",
              " ('1', 3667),\n",
              " ('8', 2639),\n",
              " ('9', 2521),\n",
              " ('2', 3294),\n",
              " ('5', 2653)]"
            ]
          },
          "metadata": {},
          "execution_count": 14
        }
      ]
    },
    {
      "cell_type": "markdown",
      "metadata": {
        "id": "jgSznelGxTEt"
      },
      "source": [
        "# Using the Movie Lens dataset\n"
      ]
    },
    {
      "cell_type": "markdown",
      "metadata": {
        "id": "KLVr4VCJxWul"
      },
      "source": [
        "## Getting the dataset"
      ]
    },
    {
      "cell_type": "code",
      "metadata": {
        "id": "URfH5y4ZxWdj"
      },
      "source": [
        "import re\n",
        "\n",
        "future_pattern = re.compile(\"\"\"([^,\"]+|\"[^\"]+\")(?=,|$)\"\"\")\n",
        "\n",
        "def parseCSV(line):\n",
        "  return future_pattern.findall(line)\n",
        "\n",
        "ratingsFile = sc.textFile(\"/content/drive/MyDrive/ratings.csv\").map(parseCSV)\n",
        "moviesFile = sc.textFile(\"/content/drive/MyDrive/movies.csv\").map(parseCSV)\n"
      ],
      "execution_count": 15,
      "outputs": []
    },
    {
      "cell_type": "code",
      "metadata": {
        "colab": {
          "base_uri": "https://localhost:8080/"
        },
        "id": "8caXiLkbx-rQ",
        "outputId": "224460e8-a267-4ef2-8dea-33afa8bb5d74"
      },
      "source": [
        "ratingsFile.take(2)"
      ],
      "execution_count": 16,
      "outputs": [
        {
          "output_type": "execute_result",
          "data": {
            "text/plain": [
              "[['userId', 'movieId', 'rating', 'timestamp'], ['1', '1', '4.0', '964982703']]"
            ]
          },
          "metadata": {},
          "execution_count": 16
        }
      ]
    },
    {
      "cell_type": "code",
      "metadata": {
        "colab": {
          "base_uri": "https://localhost:8080/"
        },
        "id": "elbesJAU5bve",
        "outputId": "c319029b-fc92-4fea-c83b-f3dcacc097bc"
      },
      "source": [
        "moviesFile.take(2)"
      ],
      "execution_count": 17,
      "outputs": [
        {
          "output_type": "execute_result",
          "data": {
            "text/plain": [
              "[['movieId', 'title', 'genres'],\n",
              " ['1', 'Toy Story (1995)', 'Adventure|Animation|Children|Comedy|Fantasy']]"
            ]
          },
          "metadata": {},
          "execution_count": 17
        }
      ]
    },
    {
      "cell_type": "markdown",
      "metadata": {
        "id": "3OxU40A0x7Mc"
      },
      "source": [
        "## Cleaning data\n"
      ]
    },
    {
      "cell_type": "code",
      "metadata": {
        "id": "nF1boPEP0r1_"
      },
      "source": [
        "def del_header(l):\n",
        "  # deleting the line if header of ratings or movies\n",
        "  if l[0]=='userId' or l[0]=='movieId':\n",
        "    return\n",
        "  return l"
      ],
      "execution_count": 18,
      "outputs": []
    },
    {
      "cell_type": "code",
      "metadata": {
        "id": "B80t3tuMx67a"
      },
      "source": [
        "ratings = ratingsFile.filter(del_header).map(lambda l : [l[0], l[1], float(l[2]), l[3]]) # ratings : str => float\n",
        "movies = moviesFile.filter(del_header)"
      ],
      "execution_count": 19,
      "outputs": []
    },
    {
      "cell_type": "code",
      "metadata": {
        "colab": {
          "base_uri": "https://localhost:8080/"
        },
        "id": "eLr_y6Vd1NXh",
        "outputId": "a65a0d3a-7201-439c-b51e-5a4bb1e52e1d"
      },
      "source": [
        "ratings.take(4)"
      ],
      "execution_count": 20,
      "outputs": [
        {
          "output_type": "execute_result",
          "data": {
            "text/plain": [
              "[['1', '1', 4.0, '964982703'],\n",
              " ['1', '3', 4.0, '964981247'],\n",
              " ['1', '6', 4.0, '964982224'],\n",
              " ['1', '47', 5.0, '964983815']]"
            ]
          },
          "metadata": {},
          "execution_count": 20
        }
      ]
    },
    {
      "cell_type": "code",
      "metadata": {
        "colab": {
          "base_uri": "https://localhost:8080/"
        },
        "id": "53GYy4BL5iZZ",
        "outputId": "902b53fd-c81c-4104-f7f6-a24025194c0e"
      },
      "source": [
        "movies.take(4)"
      ],
      "execution_count": 21,
      "outputs": [
        {
          "output_type": "execute_result",
          "data": {
            "text/plain": [
              "[['1', 'Toy Story (1995)', 'Adventure|Animation|Children|Comedy|Fantasy'],\n",
              " ['2', 'Jumanji (1995)', 'Adventure|Children|Fantasy'],\n",
              " ['3', 'Grumpier Old Men (1995)', 'Comedy|Romance'],\n",
              " ['4', 'Waiting to Exhale (1995)', 'Comedy|Drama|Romance']]"
            ]
          },
          "metadata": {},
          "execution_count": 21
        }
      ]
    },
    {
      "cell_type": "markdown",
      "metadata": {
        "id": "nY3iJ8Bl2mzW"
      },
      "source": [
        "## 10 best movies of all times"
      ]
    },
    {
      "cell_type": "code",
      "metadata": {
        "id": "MWefB23-2Waw"
      },
      "source": [
        "best = sc.parallelize(ratings.map(lambda l : (l[1], (l[2], 1))).reduceByKey(lambda a,b: (a[0]+b[0], a[1]+b[1])).mapValues(lambda v: v[0]/v[1]).sortBy(lambda x: x[1], ascending=False).take(10))"
      ],
      "execution_count": 22,
      "outputs": []
    },
    {
      "cell_type": "code",
      "metadata": {
        "colab": {
          "base_uri": "https://localhost:8080/"
        },
        "id": "7egolouk3Gao",
        "outputId": "df766eb8-9725-4644-9f18-2661321c3c8f"
      },
      "source": [
        "best.collect() # (key=movieID, value=rating)"
      ],
      "execution_count": 23,
      "outputs": [
        {
          "output_type": "execute_result",
          "data": {
            "text/plain": [
              "[('6835', 5.0),\n",
              " ('1151', 5.0),\n",
              " ('1631', 5.0),\n",
              " ('102217', 5.0),\n",
              " ('27523', 5.0),\n",
              " ('53', 5.0),\n",
              " ('1140', 5.0),\n",
              " ('8238', 5.0),\n",
              " ('47736', 5.0),\n",
              " ('53355', 5.0)]"
            ]
          },
          "metadata": {},
          "execution_count": 23
        }
      ]
    },
    {
      "cell_type": "markdown",
      "metadata": {
        "id": "sSHrFeuR1RS-"
      },
      "source": [
        "##  Ordered list of movies with names"
      ]
    },
    {
      "cell_type": "code",
      "metadata": {
        "id": "YDHy0JKu1Qw5"
      },
      "source": [
        "mov = movies.map(lambda l : (l[0], l[1]))\n",
        "ordered = mov.join(best).map(lambda l: (l[1][0],l[1][1]))"
      ],
      "execution_count": 31,
      "outputs": []
    },
    {
      "cell_type": "code",
      "metadata": {
        "colab": {
          "base_uri": "https://localhost:8080/"
        },
        "id": "oD_8Xjc17E0Q",
        "outputId": "65ed9878-d7bc-4df8-b054-4cff38170aaa"
      },
      "source": [
        "ordered.collect()"
      ],
      "execution_count": 32,
      "outputs": [
        {
          "output_type": "execute_result",
          "data": {
            "text/plain": [
              "[('Lamerica (1994)', 5.0),\n",
              " ('My Sassy Girl (Yeopgijeogin geunyeo) (2001)', 5.0),\n",
              " ('Entertaining Angels: The Dorothy Day Story (1996)', 5.0),\n",
              " ('Lesson Faust (1994)', 5.0),\n",
              " ('\"Chump at Oxford, A (1940)\"', 5.0),\n",
              " ('Sun Alley (Sonnenallee) (1999)', 5.0),\n",
              " ('Bill Hicks: Revelations (1993)', 5.0),\n",
              " ('\"Assignment, The (1997)\"', 5.0),\n",
              " ('Alien Contamination (1980)', 5.0),\n",
              " ('Little Murders (1971)', 5.0)]"
            ]
          },
          "metadata": {},
          "execution_count": 32
        }
      ]
    },
    {
      "cell_type": "markdown",
      "metadata": {
        "id": "BSe01LTR7-cj"
      },
      "source": [
        "## Better ordered list"
      ]
    },
    {
      "cell_type": "markdown",
      "metadata": {
        "id": "duj2H2lSE5e9"
      },
      "source": [
        "### Metric 1"
      ]
    },
    {
      "cell_type": "code",
      "metadata": {
        "id": "w9Ytblix7Gie"
      },
      "source": [
        "best_metric_1 = sc.parallelize(ratings.map(lambda l : (l[1], (l[2], 1))).reduceByKey(lambda a,b: (a[0]+b[0], a[1]+b[1])).mapValues(lambda v: v[0]/(v[1]+1)).sortBy(lambda x: x[1], ascending=False).take(10))"
      ],
      "execution_count": 33,
      "outputs": []
    },
    {
      "cell_type": "code",
      "metadata": {
        "colab": {
          "base_uri": "https://localhost:8080/"
        },
        "id": "AlM-F5lTEz72",
        "outputId": "0e7258d2-938b-4542-adf8-1754fb24b146"
      },
      "source": [
        "best_metric_1.collect()"
      ],
      "execution_count": 34,
      "outputs": [
        {
          "output_type": "execute_result",
          "data": {
            "text/plain": [
              "[('318', 4.415094339622642),\n",
              " ('858', 4.266839378238342),\n",
              " ('1104', 4.261904761904762),\n",
              " ('2959', 4.2534246575342465),\n",
              " ('1221', 4.226923076923077),\n",
              " ('750', 4.224489795918367),\n",
              " ('177593', 4.222222222222222),\n",
              " ('50', 4.217073170731707),\n",
              " ('1213', 4.216535433070866),\n",
              " ('260', 4.214285714285714)]"
            ]
          },
          "metadata": {},
          "execution_count": 34
        }
      ]
    },
    {
      "cell_type": "code",
      "metadata": {
        "colab": {
          "base_uri": "https://localhost:8080/"
        },
        "id": "8mAx_IH8E5DU",
        "outputId": "345d66db-15f7-40c1-c225-07e4a67bdfdf"
      },
      "source": [
        "mov.join(best_metric_1).map(lambda l: (l[1][0],l[1][1])).collect()"
      ],
      "execution_count": 35,
      "outputs": [
        {
          "output_type": "execute_result",
          "data": {
            "text/plain": [
              "[('\"Godfather: Part II, The (1974)\"', 4.226923076923077),\n",
              " ('\"Godfather, The (1972)\"', 4.266839378238342),\n",
              " ('Goodfellas (1990)', 4.216535433070866),\n",
              " ('Star Wars: Episode IV - A New Hope (1977)', 4.214285714285714),\n",
              " ('\"Shawshank Redemption, The (1994)\"', 4.415094339622642),\n",
              " ('Dr. Strangelove or: How I Learned to Stop Worrying and Love the Bomb (1964)',\n",
              "  4.224489795918367),\n",
              " ('\"Usual Suspects, The (1995)\"', 4.217073170731707),\n",
              " ('\"Streetcar Named Desire, A (1951)\"', 4.261904761904762),\n",
              " ('Fight Club (1999)', 4.2534246575342465),\n",
              " ('\"Three Billboards Outside Ebbing, Missouri (2017)\"', 4.222222222222222)]"
            ]
          },
          "metadata": {},
          "execution_count": 35
        }
      ]
    },
    {
      "cell_type": "markdown",
      "metadata": {
        "id": "oLbVY_QmFNzd"
      },
      "source": [
        "### Metric 2"
      ]
    },
    {
      "cell_type": "code",
      "metadata": {
        "id": "-XhQcoWWFoCg"
      },
      "source": [
        "from math import log"
      ],
      "execution_count": 36,
      "outputs": []
    },
    {
      "cell_type": "code",
      "metadata": {
        "id": "CJtHkLpUFSB2"
      },
      "source": [
        "best_metric_2 = sc.parallelize(ratings.map(lambda l : (l[1], (l[2], 1))).reduceByKey(lambda a,b: (a[0]+b[0], a[1]+b[1])).mapValues(lambda v: (v[0]/v[1])*log(v[1]+1)).sortBy(lambda x: x[1], ascending=False).take(10))"
      ],
      "execution_count": 37,
      "outputs": []
    },
    {
      "cell_type": "code",
      "metadata": {
        "colab": {
          "base_uri": "https://localhost:8080/"
        },
        "id": "emedZs4zFSB4",
        "outputId": "55c265e9-ef25-410e-f137-11a0020fefa9"
      },
      "source": [
        "best_metric_2.collect()"
      ],
      "execution_count": 38,
      "outputs": [
        {
          "output_type": "execute_result",
          "data": {
            "text/plain": [
              "[('318', 25.5202528120611),\n",
              " ('356', 24.148197375717082),\n",
              " ('296', 24.049620750363033),\n",
              " ('2571', 23.608551552923746),\n",
              " ('593', 23.44799544544623),\n",
              " ('260', 23.395433031622037),\n",
              " ('2959', 23.0271574143306),\n",
              " ('527', 22.807237413912503),\n",
              " ('1196', 22.58143834749173),\n",
              " ('858', 22.57200713834986)]"
            ]
          },
          "metadata": {},
          "execution_count": 38
        }
      ]
    },
    {
      "cell_type": "code",
      "metadata": {
        "colab": {
          "base_uri": "https://localhost:8080/"
        },
        "id": "PBuqy-iqFSB6",
        "outputId": "d74e14be-e6d5-466d-ec3c-d0ae2d1fef50"
      },
      "source": [
        "mov.join(best_metric_2).map(lambda l: (l[1][0],l[1][1])).collect()"
      ],
      "execution_count": 39,
      "outputs": [
        {
          "output_type": "execute_result",
          "data": {
            "text/plain": [
              "[(\"Schindler's List (1993)\", 22.807237413912503),\n",
              " ('\"Silence of the Lambs, The (1991)\"', 23.44799544544623),\n",
              " ('\"Godfather, The (1972)\"', 22.57200713834986),\n",
              " ('\"Matrix, The (1999)\"', 23.608551552923746),\n",
              " ('Pulp Fiction (1994)', 24.049620750363033),\n",
              " ('Star Wars: Episode V - The Empire Strikes Back (1980)', 22.58143834749173),\n",
              " ('Star Wars: Episode IV - A New Hope (1977)', 23.395433031622037),\n",
              " ('\"Shawshank Redemption, The (1994)\"', 25.5202528120611),\n",
              " ('Forrest Gump (1994)', 24.148197375717082),\n",
              " ('Fight Club (1999)', 23.0271574143306)]"
            ]
          },
          "metadata": {},
          "execution_count": 39
        }
      ]
    },
    {
      "cell_type": "markdown",
      "metadata": {
        "id": "1oL9RF8XGCBP"
      },
      "source": [
        "#  Re-implementing K-Means\n"
      ]
    },
    {
      "cell_type": "markdown",
      "metadata": {
        "id": "JnkG3PZeGL7w"
      },
      "source": [
        "## Loading data"
      ]
    },
    {
      "cell_type": "code",
      "metadata": {
        "id": "ydszD0uTGMyQ"
      },
      "source": [
        "pts = []\n",
        "ground_truth = dict()\n",
        "with open(\"/content/drive/MyDrive/SZRd1P4Lb5S_data.tsv\",\"r\") as f:\n",
        "  for l in f.readlines():\n",
        "    data=l.split(\"\\t\")\n",
        "    pts.append(tuple(map(float,data[:-1])))\n",
        "    ground_truth[pts[-1]] = int(data[-1].rstrip())\n",
        "    ptsRDD = sc.parallelize(pts)"
      ],
      "execution_count": 40,
      "outputs": []
    },
    {
      "cell_type": "code",
      "metadata": {
        "colab": {
          "base_uri": "https://localhost:8080/"
        },
        "id": "KshY0fidF9hx",
        "outputId": "ec5e67b6-946b-4eb3-d6b8-7dc974d4f8ea"
      },
      "source": [
        "ptsRDD.take(1)"
      ],
      "execution_count": 41,
      "outputs": [
        {
          "output_type": "execute_result",
          "data": {
            "text/plain": [
              "[(-0.1809699459806945,\n",
              "  2.192028953740528,\n",
              "  3.504043825943004,\n",
              "  -1.0896302460725749,\n",
              "  1.6057579035478744,\n",
              "  2.1445200774212987,\n",
              "  1.1218850520596748,\n",
              "  1.4346564576609544,\n",
              "  2.084084922865424,\n",
              "  -0.13070819907001963)]"
            ]
          },
          "metadata": {},
          "execution_count": 41
        }
      ]
    },
    {
      "cell_type": "markdown",
      "metadata": {
        "id": "qqyStEbfXMEM"
      },
      "source": [
        "The points are in a space of 10 dimensions."
      ]
    },
    {
      "cell_type": "markdown",
      "metadata": {
        "id": "TAMw7RmnGsig"
      },
      "source": [
        "## Initialization"
      ]
    },
    {
      "cell_type": "code",
      "metadata": {
        "id": "Si_4nijIH-mU"
      },
      "source": [
        "# Setting the number of clusters\n",
        "K = 7"
      ],
      "execution_count": 42,
      "outputs": []
    },
    {
      "cell_type": "code",
      "metadata": {
        "id": "17OuTEWyHLoY"
      },
      "source": [
        "from random import random"
      ],
      "execution_count": 43,
      "outputs": []
    },
    {
      "cell_type": "code",
      "metadata": {
        "id": "0lma9zzCGqIh"
      },
      "source": [
        "ini = ptsRDD.map(lambda coord : (coord, random())).sortBy(lambda x: x[1], ascending=False).map(lambda l: l[0])"
      ],
      "execution_count": 67,
      "outputs": []
    },
    {
      "cell_type": "code",
      "metadata": {
        "id": "49Q1StHJHn8A"
      },
      "source": [
        "centroids = ini.take(K)"
      ],
      "execution_count": 68,
      "outputs": []
    },
    {
      "cell_type": "code",
      "metadata": {
        "colab": {
          "base_uri": "https://localhost:8080/"
        },
        "id": "HLEDGyGKS7aV",
        "outputId": "eb3a4f5f-e65a-47d0-d8ee-8b62594c63ee"
      },
      "source": [
        "print(ini_centroids[0])"
      ],
      "execution_count": 69,
      "outputs": [
        {
          "output_type": "stream",
          "name": "stdout",
          "text": [
            "(2.2539289282176744, 2.0138731406718007, 2.9060400593588716, 2.750413972149768, 2.85117895363233, 0.6046272472483172, 2.0602073029812087, 4.099791334412553, 1.879706175730693, 2.5505453006455454)\n"
          ]
        }
      ]
    },
    {
      "cell_type": "markdown",
      "metadata": {
        "id": "t0msN-ugINr0"
      },
      "source": [
        "## Step method"
      ]
    },
    {
      "cell_type": "code",
      "metadata": {
        "id": "oort2EN4IKSZ"
      },
      "source": [
        "def find_closest(coord):\n",
        "  \n",
        "  #finding the closest centroid to the current point\n",
        "  index_closest, min_dist = -1, 99999999999999\n",
        "  for i in range(len(centroids)):\n",
        "    s = 0\n",
        "    for j in range(len(coord)):\n",
        "      s += (coord[j]-centroids[i][j])**2\n",
        "    if s < min_dist:\n",
        "      index_closest, min_dist = i, s\n",
        "\n",
        "  return (index_closest, (coord, 1))"
      ],
      "execution_count": 70,
      "outputs": []
    },
    {
      "cell_type": "markdown",
      "metadata": {
        "id": "hb1eiYzcYJrc"
      },
      "source": [
        "We first map by setting as key the index of the closest centroid to each point and as value the tuple containing the coordinates of the point and the integer 1."
      ]
    },
    {
      "cell_type": "code",
      "metadata": {
        "colab": {
          "base_uri": "https://localhost:8080/"
        },
        "id": "GwfshL4FMkWS",
        "outputId": "367be8af-711d-4352-8542-c151f68ac9ef"
      },
      "source": [
        "centroids_step = ptsRDD.map(find_closest)\n",
        "centroids_step.take(2)"
      ],
      "execution_count": 89,
      "outputs": [
        {
          "output_type": "execute_result",
          "data": {
            "text/plain": [
              "[(3,\n",
              "  ((-0.1809699459806945,\n",
              "    2.192028953740528,\n",
              "    3.504043825943004,\n",
              "    -1.0896302460725749,\n",
              "    1.6057579035478744,\n",
              "    2.1445200774212987,\n",
              "    1.1218850520596748,\n",
              "    1.4346564576609544,\n",
              "    2.084084922865424,\n",
              "    -0.13070819907001963),\n",
              "   1)),\n",
              " (2,\n",
              "  ((1.6258456835886963,\n",
              "    1.664416507223232,\n",
              "    1.8254395674483501,\n",
              "    2.5452178986004688,\n",
              "    1.139116728970604,\n",
              "    1.0591336453068587,\n",
              "    1.5590047150797508,\n",
              "    -0.24174010719233685,\n",
              "    2.0106206364597496,\n",
              "    0.5886273087707666),\n",
              "   1))]"
            ]
          },
          "metadata": {},
          "execution_count": 89
        }
      ]
    },
    {
      "cell_type": "markdown",
      "metadata": {
        "id": "ko71LQDqYW1f"
      },
      "source": [
        "Then we reduce by key by summing up the coordinates in each dimension of each point associated to each centroid, the second element of the value contains the number of closest points to the centroid."
      ]
    },
    {
      "cell_type": "code",
      "metadata": {
        "colab": {
          "base_uri": "https://localhost:8080/"
        },
        "id": "-Mo-lnLxXzkh",
        "outputId": "a6f258ed-dc24-4a31-d2a8-03f4c0122a6e"
      },
      "source": [
        "centroids_step = centroids_step.reduceByKey(lambda a,b: ([x+y for x,y in zip(a[0],b[0])], a[1]+b[1]))\n",
        "centroids_step.take(1)"
      ],
      "execution_count": 90,
      "outputs": [
        {
          "output_type": "execute_result",
          "data": {
            "text/plain": [
              "[(4,\n",
              "  ([1845.2936545264351,\n",
              "    1192.8779783035527,\n",
              "    2287.1208007293785,\n",
              "    2017.9660491256982,\n",
              "    1800.546120345019,\n",
              "    393.5026523007212,\n",
              "    1569.9642699171723,\n",
              "    1417.139512489974,\n",
              "    507.2340321437089,\n",
              "    1716.1848464419786],\n",
              "   714))]"
            ]
          },
          "metadata": {},
          "execution_count": 90
        }
      ]
    },
    {
      "cell_type": "markdown",
      "metadata": {
        "id": "PxCiljj7Y5Fv"
      },
      "source": [
        "After that, we calculate the average according to the first formula given in the lab."
      ]
    },
    {
      "cell_type": "code",
      "metadata": {
        "colab": {
          "base_uri": "https://localhost:8080/"
        },
        "id": "Vl9ydqjQX0AG",
        "outputId": "9ad34a9d-8813-48d8-ad8c-99c621a81637"
      },
      "source": [
        "centroids_step = centroids_step.mapValues(lambda v: [(x/v[1])*log(v[1]+1) for x in v[0]])\n",
        "centroids_step.take(1)"
      ],
      "execution_count": 91,
      "outputs": [
        {
          "output_type": "execute_result",
          "data": {
            "text/plain": [
              "[(4,\n",
              "  [16.985702061327896,\n",
              "   10.980295675586218,\n",
              "   21.05266682306167,\n",
              "   18.575130303106477,\n",
              "   16.5738064902787,\n",
              "   3.6221437145935855,\n",
              "   14.451328800882315,\n",
              "   13.044595628150914,\n",
              "   4.6690271351798165,\n",
              "   15.797271297348194])]"
            ]
          },
          "metadata": {},
          "execution_count": 91
        }
      ]
    },
    {
      "cell_type": "markdown",
      "metadata": {
        "id": "KPVwtB71ZC7a"
      },
      "source": [
        "Finaly, we output the new coordinates of the centroids."
      ]
    },
    {
      "cell_type": "code",
      "metadata": {
        "colab": {
          "base_uri": "https://localhost:8080/"
        },
        "id": "QmAU6YwAX12E",
        "outputId": "dd52c224-84c3-47eb-adf7-b8a75953bbde"
      },
      "source": [
        "centroids_step = centroids_step.map(lambda l: l[1])\n",
        "centroids_step.take(1)"
      ],
      "execution_count": 92,
      "outputs": [
        {
          "output_type": "execute_result",
          "data": {
            "text/plain": [
              "[[16.985702061327896,\n",
              "  10.980295675586218,\n",
              "  21.05266682306167,\n",
              "  18.575130303106477,\n",
              "  16.5738064902787,\n",
              "  3.6221437145935855,\n",
              "  14.451328800882315,\n",
              "  13.044595628150914,\n",
              "  4.6690271351798165,\n",
              "  15.797271297348194]]"
            ]
          },
          "metadata": {},
          "execution_count": 92
        }
      ]
    },
    {
      "cell_type": "markdown",
      "metadata": {
        "id": "0e41geCjPpuL"
      },
      "source": [
        "## Getting results"
      ]
    },
    {
      "cell_type": "code",
      "metadata": {
        "id": "J4wDOKs-PXPL"
      },
      "source": [
        "def KMeansRDD(R,K,I):\n",
        "  centroids = R.map(lambda coord : (coord, random())).sortBy(lambda x: x[1], ascending=False).map(lambda l: l[0]).take(K)\n",
        "  for i in range(I):\n",
        "    centroids = R.map(find_closest).reduceByKey(lambda a,b: ([x+y for x,y in zip(a[0],b[0])], a[1]+b[1])).mapValues(lambda v: [(x/v[1])*log(v[1]+1) for x in v[0]]).map(lambda l: l[1]).take(K)\n",
        "  return centroids"
      ],
      "execution_count": 75,
      "outputs": []
    },
    {
      "cell_type": "code",
      "metadata": {
        "id": "QjAje-v1QEMg"
      },
      "source": [
        "final_centroids = KMeansRDD(ptsRDD, 7, 100)"
      ],
      "execution_count": 76,
      "outputs": []
    },
    {
      "cell_type": "code",
      "metadata": {
        "colab": {
          "base_uri": "https://localhost:8080/"
        },
        "id": "x7TP7qiRQPZL",
        "outputId": "2ec84c36-143a-4ec5-ba81-1275b12e64bd"
      },
      "source": [
        "final_centroids[0]"
      ],
      "execution_count": 87,
      "outputs": [
        {
          "output_type": "execute_result",
          "data": {
            "text/plain": [
              "[16.985702061327896,\n",
              " 10.980295675586218,\n",
              " 21.05266682306167,\n",
              " 18.575130303106477,\n",
              " 16.5738064902787,\n",
              " 3.6221437145935855,\n",
              " 14.451328800882315,\n",
              " 13.044595628150914,\n",
              " 4.6690271351798165,\n",
              " 15.797271297348194]"
            ]
          },
          "metadata": {},
          "execution_count": 87
        }
      ]
    },
    {
      "cell_type": "markdown",
      "metadata": {
        "id": "gTlHgDmsaJtJ"
      },
      "source": [
        "## Measuring the performance of your algorithm"
      ]
    },
    {
      "cell_type": "code",
      "metadata": {
        "id": "JsXfTCgFbePi"
      },
      "source": [
        "import numpy as np"
      ],
      "execution_count": 80,
      "outputs": []
    },
    {
      "cell_type": "code",
      "metadata": {
        "id": "vjDiGMZfaK0U"
      },
      "source": [
        "def predict(coord):\n",
        "  \n",
        "  #finding the closest centroid to the current point\n",
        "  index_closest, min_dist = -1, 99999999999999\n",
        "  for i in range(len(centroids)):\n",
        "    s = 0\n",
        "    for j in range(len(coord)):\n",
        "      s += (coord[j]-centroids[i][j])**2\n",
        "    if s < min_dist:\n",
        "      index_closest, min_dist = i, s\n",
        "\n",
        "  return (coord, index_closest)"
      ],
      "execution_count": 93,
      "outputs": []
    },
    {
      "cell_type": "code",
      "metadata": {
        "id": "6r6AdOQakd0k"
      },
      "source": [
        "def proj(i):\n",
        "  l = [(2,6), (6,5), (0,4), (1,3), (3, 2), (4,1),(5,0)]\n",
        "  for v in l:\n",
        "    if i==v[0]:\n",
        "      return v[1]"
      ],
      "execution_count": 106,
      "outputs": []
    },
    {
      "cell_type": "code",
      "metadata": {
        "colab": {
          "base_uri": "https://localhost:8080/"
        },
        "id": "oX2wQJ5GadOs",
        "outputId": "1f6f4623-b377-42b3-ff36-cde4e233ba2a"
      },
      "source": [
        "pred = ptsRDD.map(predict)\n",
        "\n",
        "M = np.zeros((7, 7), dtype=int)\n",
        "\n",
        "for prediction in pred.collect():\n",
        "  M[proj(prediction[1])][ground_truth[prediction[0]]]+=1\n",
        "\n",
        "print('\\n'.join(['\\t'.join([str(cell) for cell in row]) for row in M]))"
      ],
      "execution_count": 107,
      "outputs": [
        {
          "output_type": "stream",
          "name": "stdout",
          "text": [
            "291\t51\t462\t12\t11\t78\t17\n",
            "1\t201\t0\t0\t509\t0\t3\n",
            "396\t365\t535\t0\t0\t0\t3\n",
            "505\t13\t7\t1106\t4\t24\t0\n",
            "76\t236\t0\t0\t870\t24\t0\n",
            "13\t184\t0\t0\t0\t1279\t0\n",
            "102\t390\t427\t335\t31\t10\t1429\n"
          ]
        }
      ]
    },
    {
      "cell_type": "code",
      "metadata": {
        "colab": {
          "base_uri": "https://localhost:8080/"
        },
        "id": "jkogtZ72QRyP",
        "outputId": "10e87f38-b0a8-4fc8-ed90-c0034a5fcc73"
      },
      "source": [
        "!jupyter nbconvert --to PDF \"Untitled0.ipynb\""
      ],
      "execution_count": 109,
      "outputs": [
        {
          "output_type": "stream",
          "name": "stdout",
          "text": [
            "[NbConvertApp] Converting notebook Untitled0.ipynb to PDF\n",
            "[NbConvertApp] Writing 62578 bytes to ./notebook.tex\n",
            "[NbConvertApp] Building PDF\n",
            "[NbConvertApp] Running xelatex 3 times: [u'xelatex', u'./notebook.tex', '-quiet']\n",
            "[NbConvertApp] Running bibtex 1 time: [u'bibtex', u'./notebook']\n",
            "[NbConvertApp] WARNING | bibtex had problems, most likely because there were no citations\n",
            "[NbConvertApp] PDF successfully created\n",
            "[NbConvertApp] Writing 57136 bytes to Untitled0.pdf\n"
          ]
        }
      ]
    }
  ]
}